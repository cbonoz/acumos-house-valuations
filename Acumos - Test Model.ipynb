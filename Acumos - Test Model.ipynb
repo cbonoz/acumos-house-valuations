{
 "cells": [
  {
   "cell_type": "code",
   "execution_count": 33,
   "metadata": {},
   "outputs": [],
   "source": [
    "import os\n",
    "import shutil\n",
    "\n",
    "pw = os.environ['ACUMOS_PASSWORD']\n",
    "user = os.environ['ACUMOS_USERNAME']\n",
    "\n",
    "MODEL_PATH = \"mult-model\"\n",
    "\n",
    "from acumos.modeling import Model, List, Dict, create_namedtuple, create_dataframe\n",
    "from acumos.session import AcumosSession\n",
    "\n",
    "MODEL_URL = \"https://acumos-challenge.org/onboarding-app/v2/models\"\n",
    "AUTH_URL = \"https://acumos-challenge.org/onboarding-app/v2/auth\""
   ]
  },
  {
   "cell_type": "code",
   "execution_count": null,
   "metadata": {},
   "outputs": [],
   "source": []
  },
  {
   "cell_type": "code",
   "execution_count": 35,
   "metadata": {},
   "outputs": [],
   "source": [
    "def mult_numbers(x: int, y: int) -> int:\n",
    "    return x + y\n",
    "\n",
    "model = Model(mult=mult_numbers)"
   ]
  },
  {
   "cell_type": "code",
   "execution_count": 36,
   "metadata": {},
   "outputs": [],
   "source": [
    "# Session Endpoints for Acumos Challenge model upload and auth.\n",
    "# session = AcumosSession(push_api=PUSH_URL, auth_api=AUTH_URL)\n",
    "session = AcumosSession()\n",
    "\n"
   ]
  },
  {
   "cell_type": "code",
   "execution_count": 37,
   "metadata": {},
   "outputs": [
    {
     "ename": "TypeError",
     "evalue": "rmtree() missing 1 required positional argument: 'path'",
     "output_type": "error",
     "traceback": [
      "\u001b[0;31m---------------------------------------------------------------------------\u001b[0m",
      "\u001b[0;31mTypeError\u001b[0m                                 Traceback (most recent call last)",
      "\u001b[0;32m<ipython-input-37-d8af1bc8bdc7>\u001b[0m in \u001b[0;36m<module>\u001b[0;34m()\u001b[0m\n\u001b[1;32m      1\u001b[0m \u001b[0;31m# session.push(model, 'add-model')\u001b[0m\u001b[0;34m\u001b[0m\u001b[0;34m\u001b[0m\u001b[0m\n\u001b[0;32m----> 2\u001b[0;31m \u001b[0mshutil\u001b[0m\u001b[0;34m.\u001b[0m\u001b[0mrmtree\u001b[0m\u001b[0;34m(\u001b[0m\u001b[0;34m)\u001b[0m\u001b[0;34m\u001b[0m\u001b[0m\n\u001b[0m\u001b[1;32m      3\u001b[0m \u001b[0msession\u001b[0m\u001b[0;34m.\u001b[0m\u001b[0mdump\u001b[0m\u001b[0;34m(\u001b[0m\u001b[0mmodel\u001b[0m\u001b[0;34m,\u001b[0m \u001b[0;34m'add-model'\u001b[0m\u001b[0;34m,\u001b[0m \u001b[0;34m'.'\u001b[0m\u001b[0;34m)\u001b[0m  \u001b[0;31m# creates ~/my-model\u001b[0m\u001b[0;34m\u001b[0m\u001b[0m\n",
      "\u001b[0;31mTypeError\u001b[0m: rmtree() missing 1 required positional argument: 'path'"
     ]
    }
   ],
   "source": [
    "# session.push(model, 'add-model')\n",
    "if os.path.isdir(MODEL_PATH):\n",
    "    shutil.rmtree(MODEL_PATH)\n",
    "session.dump(model, MODEL_PATH, '.')  # creates ~/my-model"
   ]
  },
  {
   "cell_type": "code",
   "execution_count": null,
   "metadata": {},
   "outputs": [],
   "source": [
    "import numpy as np\n",
    "import pandas as pd\n",
    "from sklearn.datasets import load_iris\n",
    "from sklearn.ensemble import RandomForestClassifier\n",
    "\n",
    "iris = load_iris()\n",
    "X = iris.data\n",
    "y = iris.target\n",
    "\n",
    "clf = RandomForestClassifier(random_state=0)\n",
    "clf.fit(X, y)\n",
    "\n",
    "# here, an appropriate NamedTuple type is inferred from a pandas DataFrame\n",
    "X_df = pd.DataFrame(X, columns=['sepal_length', 'sepal_width', 'petal_length', 'petal_width'])\n",
    "IrisDataFrame = create_dataframe('IrisDataFrame', X_df)\n",
    "\n",
    "# ==================================================================================\n",
    "# # or equivalently:\n",
    "#\n",
    "# IrisDataFrame = create_namedtuple('IrisDataFrame', [('sepal_length', List[float]),\n",
    "#                                                     ('sepal_width', List[float]),\n",
    "#                                                     ('petal_length', List[float]),\n",
    "#                                                     ('petal_width', List[float])])\n",
    "# ==================================================================================\n",
    "\n",
    "def classify_iris(df: IrisDataFrame) -> List[int]:\n",
    "    '''Returns an array of iris classifications'''\n",
    "    X = np.column_stack(df)\n",
    "    return clf.predict(X)\n",
    "\n",
    "model = Model(classify=classify_iris)"
   ]
  }
 ],
 "metadata": {
  "kernelspec": {
   "display_name": "Python 3",
   "language": "python",
   "name": "python3"
  },
  "language_info": {
   "codemirror_mode": {
    "name": "ipython",
    "version": 3
   },
   "file_extension": ".py",
   "mimetype": "text/x-python",
   "name": "python",
   "nbconvert_exporter": "python",
   "pygments_lexer": "ipython3",
   "version": "3.6.4"
  }
 },
 "nbformat": 4,
 "nbformat_minor": 2
}
